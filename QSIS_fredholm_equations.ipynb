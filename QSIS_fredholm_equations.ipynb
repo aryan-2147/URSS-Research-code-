{
 "cells": [
  {
   "cell_type": "code",
   "execution_count": 3,
   "id": "42b563ae-9137-4cae-9fa6-dbb9d7c547da",
   "metadata": {},
   "outputs": [],
   "source": [
    "import numpy as np\n",
    "from numpy import random\n",
    "from numpy.random import choice\n",
    "import scipy.stats as stats\n",
    "import scipy.stats.qmc as qmc"
   ]
  },
  {
   "cell_type": "code",
   "execution_count": 73,
   "id": "ba3b5154-0304-44e7-b259-051e65c6b2c5",
   "metadata": {},
   "outputs": [],
   "source": [
    "def Quasi_NS(N, mu, var,d):\n",
    "    # N is the number of samples generated (N=2^m for some m in the natural numbers)\n",
    "    # mu is the mean of the normal distribution we require samples from\n",
    "    # var is the variance of the normal distribution we require samples from\n",
    "    # d is the dimension of the desired sample\n",
    "    sampler = qmc.Sobol(d=1, scramble=True)\n",
    "    samples_qmc = sampler.random_base2(m=10)\n",
    "    Quasi_N_samples = stats.norm.ppf(samples_qmc,mu ,var)\n",
    "    \n",
    "    return Quasi_N_samples\n",
    "    "
   ]
  },
  {
   "cell_type": "code",
   "execution_count": 59,
   "id": "3131c6c3-7f4c-4607-bafd-a4a704baf332",
   "metadata": {},
   "outputs": [],
   "source": [
    "\n",
    "def multinomial_resampling_qmc(weights):\n",
    "    N = len(weights)\n",
    "    \n",
    "    # Generate Sobol sequence with the number of dimensions equal to the number of particles (N)\n",
    "    sampler = qmc.Sobol(d=N, scramble=True)\n",
    "    samples_qmc = sampler.random_base2(m=10)\n",
    "    \n",
    "    cumulative_weights = np.cumsum(weights)\n",
    "    cumulative_weights[-1] = 1.0  # Make sure the last element is exactly 1\n",
    "\n",
    "    resampled_indices = np.zeros(N, dtype=int)\n",
    "\n",
    "    # Multinomial resampling\n",
    "    i, j = 0, 0\n",
    "    while i < N and j < N:\n",
    "        if samples_qmc[j, 0] < cumulative_weights[i]:\n",
    "            resampled_indices[j] = i\n",
    "            j += 1\n",
    "        else:\n",
    "            i += 1\n",
    "\n",
    "    return resampled_indices"
   ]
  },
  {
   "cell_type": "code",
   "execution_count": 137,
   "id": "4664c53e-016d-42a3-80e8-1552c0a4f0b4",
   "metadata": {},
   "outputs": [],
   "source": [
    "def normpdf(x, mu, sigma):\n",
    "    return np.exp(-0.5 * ((x - mu) / sigma)**2) / (np.sqrt(2 * np.pi) * sigma)\n",
    "\n",
    "#########This function returns quasi random samples from normal distributions##############\n",
    "def Quasi_NS(N, mu, var,d):\n",
    "    # N is the number of samples generated (N=2^m for some m in the natural numbers)\n",
    "    # mu is the mean of the normal distribution we require samples from\n",
    "    # var is the variance of the normal distribution we require samples from\n",
    "    # d is the dimension of the sample we require \n",
    "    sampler = qmc.Sobol(d, scramble=True)\n",
    "    samples_qmc = sampler.random_base2(m=10)\n",
    "    Quasi_N_samples = stats.norm.ppf(samples_qmc,mu ,np.sqrt(var))\n",
    "    \n",
    "    return Quasi_N_samples.T\n",
    "\n",
    "\n",
    "def multinomial_resampling_qmc(weights):\n",
    "    N = len(weights)\n",
    "    \n",
    "    # Generate Sobol sequence with the number of dimensions equal to the number of particles (N)\n",
    "    sampler = qmc.Sobol(d=N, scramble=True)\n",
    "    samples_qmc = sampler.random_base2(m=10)\n",
    "    \n",
    "    cumulative_weights = np.cumsum(weights)\n",
    "    cumulative_weights[-1] = 1.0  # Make sure the last element is exactly 1\n",
    "\n",
    "    resampled_indices = np.zeros(N, dtype=int)\n",
    "\n",
    "    # Multinomial resampling\n",
    "    i, j = 0, 0\n",
    "    while i < N and j < N:\n",
    "        if samples_qmc[j, 0] < cumulative_weights[i]:\n",
    "            resampled_indices[j] = i\n",
    "            j += 1\n",
    "        else:\n",
    "            i += 1\n",
    "\n",
    "    return resampled_indices\n",
    "\n",
    "def tractable_qsmc_fredholm(N,epsilon, n):\n",
    "    # N is the number of particles (given as a power of 2)\n",
    "    # n is the number of sample iterations\n",
    "    # epsilon is the standard deviation of the Gaussian smoothing kernel\n",
    "    # mu is the mean of the sample observations \n",
    "\n",
    "\n",
    "    # Initialization\n",
    "    X_particles = np.zeros((n, N))\n",
    "    Y_particles = np.zeros((n, N))\n",
    "    weights = np.zeros((n, N))\n",
    "\n",
    "    # at time n=1\n",
    "    # Initial distribution is given as the input \n",
    "    X_particles[0, :] = Quasi_NS(N, 0, 0.045,1)\n",
    "    # Uniform weights are given as the input\n",
    "    weights[0, :] = np.ones(N) / N \n",
    "    Y = Quasi_NS(N, 0, np.sqrt((0.043**2+0.045**2)),1)\n",
    "\n",
    "    # at time n>1\n",
    "    for i in range(1, n):\n",
    "        # Markov Chain step\n",
    "        X_particles[i, :] = X_particles[i-1, :] + epsilon * Quasi_NS(N,0,1,1)\n",
    "\n",
    "        weights[i, :] = weights[i-1, :]\n",
    "        # draw samples from Y \n",
    "        hN = np.zeros(N) \n",
    "        for j in range(N):\n",
    "            hN[j] = np.mean(weights[i, :] * normpdf(Y[0,j], X_particles[i, :], 0.045))\n",
    "\n",
    "        # calculate potentials\n",
    "        potential = np.zeros(N)\n",
    "        g=np.zeros(N)\n",
    "        averg=np.zeros(N)\n",
    "        for j in range (N):\n",
    "            g = normpdf(Y, X_particles[i, j], 0.045)\n",
    "            potential = np.divide(g,hN)\n",
    "            averg[j]= np.mean(potential)\n",
    "        \n",
    "        # update and normalize weights \n",
    "        weights[i, :] = weights[i, :] * averg\n",
    "\n",
    "        weights[i, :] = weights[i, :] / np.sum(weights[i, :])\n",
    "\n",
    "        # Resampling particles with updated weights\n",
    "        # Y_particles[i, :] = choice(Y_particles[i-1, :], N, replace=False, p=weights[i-1,:])\n",
    "        \n",
    "        # Effective Sample Size (ESS)\n",
    "        ESS = 1 / np.sum(weights[i, :]**2)\n",
    "        \n",
    "        # Resampling\n",
    "        if ESS < N / 2:\n",
    "            indices = multinomial_resampling_qmc(weights[i, :])\n",
    "            X_particles[i, :] = X_particles[i, indices]\n",
    "            weights[i, :] = np.ones(N) / N\n",
    "        else:\n",
    "            X_particles[i, :] = X_particles[i, :]\n",
    "            weights[i, :] = weights[i, :]\n",
    "\n",
    "    return X_particles, g\n",
    "\n",
    " \n",
    "\n",
    "\n",
    "\n",
    "    \n",
    "   "
   ]
  },
  {
   "cell_type": "code",
   "execution_count": 138,
   "id": "10473bdd-7b83-4b8e-9773-698236104659",
   "metadata": {},
   "outputs": [
    {
     "name": "stdout",
     "output_type": "stream",
     "text": [
      "[[-0.05251283  0.25227299  0.11121696 ...  0.11237006  0.25400214\n",
      "  -0.05224226]]\n"
     ]
    }
   ],
   "source": [
    "Y = Quasi_NS(1024, 0, np.sqrt((0.043**2+0.045**2)),1)\n",
    "\n",
    "print(Y)"
   ]
  },
  {
   "cell_type": "code",
   "execution_count": 139,
   "id": "46dca61a-3fba-4bc4-8428-61105383e3fd",
   "metadata": {},
   "outputs": [],
   "source": [
    "target_data= tractable_qsmc_fredholm(1024,0.01,1000)"
   ]
  },
  {
   "cell_type": "code",
   "execution_count": 140,
   "id": "1a82759f-feb2-4e03-a786-3cc1b36eb15a",
   "metadata": {},
   "outputs": [
    {
     "data": {
      "text/plain": [
       "(array([[ 0.23256699, -0.319866  , -0.00588147, ..., -0.00570428,\n",
       "         -0.32052797,  0.23414548],\n",
       "        [ 0.23931267, -0.32463093, -0.01319577, ..., -0.01305397,\n",
       "         -0.32527565,  0.24093386],\n",
       "        [ 0.24956214, -0.33185025, -0.01565908, ..., -0.01548293,\n",
       "         -0.33248673,  0.25113516],\n",
       "        ...,\n",
       "        [ 0.08027135,  0.14287194,  0.11637767, ...,  0.13234941,\n",
       "          0.13234941,  0.13234941],\n",
       "        [ 0.14060433,  0.14060433,  0.14060433, ...,  0.1451844 ,\n",
       "          0.1451844 ,  0.1451844 ],\n",
       "        [ 0.10656372,  0.1393272 ,  0.1393272 , ...,  0.16066428,\n",
       "          0.16066428,  0.16066428]]),\n",
       " array([[3.80747665e-01, 5.42127344e-03, 1.03035248e-19, ...,\n",
       "         7.17301825e-20, 5.61331792e-03, 3.85388645e-01]]))"
      ]
     },
     "execution_count": 140,
     "metadata": {},
     "output_type": "execute_result"
    }
   ],
   "source": [
    "target_data"
   ]
  },
  {
   "cell_type": "code",
   "execution_count": 135,
   "id": "0fb869ed-e92b-40f2-a7a9-d76d8fd181cf",
   "metadata": {},
   "outputs": [],
   "source": [
    "particle_1 = target_data[-1,:]\n",
    "\n"
   ]
  },
  {
   "cell_type": "code",
   "execution_count": 136,
   "id": "5596c426-d7dc-41b3-9148-41a6cd18583b",
   "metadata": {},
   "outputs": [
    {
     "data": {
      "image/png": "[encoded data removed]",
      "text/plain": [
       "<Figure size 432x288 with 1 Axes>"
      ]
     },
     "metadata": {
      "needs_background": "light"
     },
     "output_type": "display_data"
    }
   ],
   "source": [
    "import matplotlib.pyplot as plt\n",
    "import numpy as np\n",
    "\n",
    "# Sample data as a NumPy array\n",
    "data = particle_1\n",
    "\n",
    "# Define bin size\n",
    "bin_size = 0.05\n",
    "\n",
    "# Compute bin edges\n",
    "bins = np.arange(min(data), max(data) + bin_size, bin_size)\n",
    "\n",
    "# Plot histogram\n",
    "plt.hist(data, bins=bins, edgecolor='black')\n",
    "\n",
    "# Set labels and title\n",
    "plt.xlabel('Value')\n",
    "plt.ylabel('Frequency')\n",
    "plt.title('Histogram of our Algorithm')\n",
    "\n",
    "# Show the plot\n",
    "plt.show()"
   ]
  },
  {
   "cell_type": "code",
   "execution_count": null,
   "id": "ef46b40e-63c7-4f56-89e3-e2c20ea48072",
   "metadata": {},
   "outputs": [],
   "source": []
  },
  {
   "cell_type": "code",
   "execution_count": null,
   "id": "7c99eca5-a9ff-4083-aa55-36983c37afa4",
   "metadata": {},
   "outputs": [],
   "source": []
  }
 ],
 "metadata": {
  "kernelspec": {
   "display_name": "Python 3",
   "language": "python",
   "name": "python3"
  },
  "language_info": {
   "codemirror_mode": {
    "name": "ipython",
    "version": 3
   },
   "file_extension": ".py",
   "mimetype": "text/x-python",
   "name": "python",
   "nbconvert_exporter": "python",
   "pygments_lexer": "ipython3",
   "version": "3.8.8"
  }
 },
 "nbformat": 4,
 "nbformat_minor": 5
}
