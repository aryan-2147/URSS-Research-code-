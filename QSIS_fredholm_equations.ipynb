{
 "cells": [
  {
   "cell_type": "code",
   "execution_count": 3,
   "id": "42b563ae-9137-4cae-9fa6-dbb9d7c547da",
   "metadata": {},
   "outputs": [],
   "source": [
    "import numpy as np\n",
    "from numpy import random\n",
    "from numpy.random import choice\n",
    "import scipy.stats as stats\n",
    "import scipy.stats.qmc as qmc"
   ]
  },
  {
   "cell_type": "code",
   "execution_count": 73,
   "id": "ba3b5154-0304-44e7-b259-051e65c6b2c5",
   "metadata": {},
   "outputs": [],
   "source": [
    "def Quasi_NS(N, mu, var,d):\n",
    "    # N is the number of samples generated (N=2^m for some m in the natural numbers)\n",
    "    # mu is the mean of the normal distribution we require samples from\n",
    "    # var is the variance of the normal distribution we require samples from\n",
    "    # d is the dimension of the desired sample\n",
    "    sampler = qmc.Sobol(d=1, scramble=True)\n",
    "    samples_qmc = sampler.random_base2(m=10)\n",
    "    Quasi_N_samples = stats.norm.ppf(samples_qmc,mu ,var)\n",
    "    \n",
    "    return Quasi_N_samples\n",
    "    "
   ]
  },
  {
   "cell_type": "code",
   "execution_count": 59,
   "id": "3131c6c3-7f4c-4607-bafd-a4a704baf332",
   "metadata": {},
   "outputs": [],
   "source": [
    "\n",
    "def multinomial_resampling_qmc(weights):\n",
    "    N = len(weights)\n",
    "    \n",
    "    # Generate Sobol sequence with the number of dimensions equal to the number of particles (N)\n",
    "    sampler = qmc.Sobol(d=N, scramble=True)\n",
    "    samples_qmc = sampler.random_base2(m=10)\n",
    "    \n",
    "    cumulative_weights = np.cumsum(weights)\n",
    "    cumulative_weights[-1] = 1.0  # Make sure the last element is exactly 1\n",
    "\n",
    "    resampled_indices = np.zeros(N, dtype=int)\n",
    "\n",
    "    # Multinomial resampling\n",
    "    i, j = 0, 0\n",
    "    while i < N and j < N:\n",
    "        if samples_qmc[j, 0] < cumulative_weights[i]:\n",
    "            resampled_indices[j] = i\n",
    "            j += 1\n",
    "        else:\n",
    "            i += 1\n",
    "\n",
    "    return resampled_indices"
   ]
  },
  {
   "cell_type": "code",
   "execution_count": 35,
   "id": "4664c53e-016d-42a3-80e8-1552c0a4f0b4",
   "metadata": {},
   "outputs": [],
   "source": [
    "def normpdf(x, mu, sigma):\n",
    "    return np.exp(-0.5 * ((x - mu) / sigma)**2) / (np.sqrt(2 * np.pi) * sigma)\n",
    "\n",
    "#########This function returns quasi random samples from normal distributions##############\n",
    "def Quasi_NS(N, mu, var,d):\n",
    "    # N is the number of samples generated (N=2^m for some m in the natural numbers)\n",
    "    # mu is the mean of the normal distribution we require samples from\n",
    "    # var is the variance of the normal distribution we require samples from\n",
    "    # d is the dimension of the sample we require \n",
    "    sampler = qmc.Sobol(d, scramble=True)\n",
    "    samples_qmc = sampler.random_base2(m=10)\n",
    "    Quasi_N_samples = stats.norm.ppf(samples_qmc,mu ,np.sqrt(var))\n",
    "    \n",
    "    return Quasi_N_samples.T\n",
    "\n",
    "\n",
    "def multinomial_resampling_qmc(weights):\n",
    "    N = len(weights)\n",
    "    \n",
    "    # Generate Sobol sequence with the number of dimensions equal to the number of particles (N)\n",
    "    sampler = qmc.Sobol(d=N, scramble=True)\n",
    "    samples_qmc = sampler.random_base2(m=10)\n",
    "    \n",
    "    cumulative_weights = np.cumsum(weights)\n",
    "    cumulative_weights[-1] = 1.0  # Make sure the last element is exactly 1\n",
    "\n",
    "    resampled_indices = np.zeros(N, dtype=int)\n",
    "\n",
    "    # Multinomial resampling\n",
    "    i, j = 0, 0\n",
    "    while i < N and j < N:\n",
    "        if samples_qmc[j, 0] < cumulative_weights[i]:\n",
    "            resampled_indices[j] = i\n",
    "            j += 1\n",
    "        else:\n",
    "            i += 1\n",
    "\n",
    "    return resampled_indices\n",
    "\n",
    "def tractable_qsmc_fredholm(N,epsilon, n):\n",
    "    # N is the number of particles (given as a power of 2)\n",
    "    # n is the number of sample iterations\n",
    "    # epsilon is the standard deviation of the Gaussian smoothing kernel\n",
    "    # mu is the mean of the sample observations \n",
    "\n",
    "  \n",
    "    \n",
    "    # Initialization\n",
    "    X_particles = np.zeros((n, N))\n",
    "    Y_particles = np.zeros((n, N))\n",
    "    weights = np.zeros((n, N))\n",
    "    \n",
    " \n",
    "    \n",
    "    # at time n=1\n",
    "    # Initial distribution is given as the input \n",
    "    X_particles[0, :] = Quasi_NS(N, 0, 0.045,d=1)\n",
    "    # Uniform weights are given as the input\n",
    "    weights[0, :] = np.ones(N) / N \n",
    "    # Initial distribution of the obeservations is given as the input \n",
    "    Y_particles[0, :] = Quasi_NS(N, 0.5, 0.088,d=1)\n",
    "\n",
    "    # at time n>1\n",
    "    for i in range(1, n):\n",
    "        \n",
    "        # Markov Chain step\n",
    "        X_particles[i, :] = X_particles[i-1, :] + epsilon * Quasi_NS(N, 0, 1,d=1)\n",
    "\n",
    "        weights[i, :] = weights[i-1, :]\n",
    "        # Calculate hN\n",
    "        hN = np.zeros(N) \n",
    "        for j in range(0, N):\n",
    "            hN[j] = np.mean(weights[i, :] * normpdf(Y_particles[j], X_particles[i, :], 0.045))\n",
    "\n",
    "        # calculate potentials\n",
    "        potential = np.zeros(N)\n",
    "        g = normpdf(Y_particles[i,:], X_particles[i, :], 0.045)\n",
    "        potential[hN != 0] = g[hN != 0] / hN[hN != 0]\n",
    "        potential[hN == 0] = 0\n",
    "        # update and normalize weights \n",
    "        weights[i, :] = weights[i, :] * potential\n",
    "\n",
    "        weights[i, :] = weights[i, :] / np.sum(weights[i, :])\n",
    "\n",
    "        # Resampling particles with updated weights\n",
    "        Y_particles[i, :] = choice(Y_particles[i-1,:], N, replace=False)\n",
    "        \n",
    "        # Effective Sample Size (ESS)\n",
    "        ESS = 1 / np.sum(weights[i, :]**2)\n",
    "        \n",
    "        # Resampling\n",
    "        if ESS < N / 2:\n",
    "            indices = multinomial_resampling_qmc(weights[i, :])\n",
    "            X_particles[i, :] = X_particles[i, indices]\n",
    "            weights[i, :] = np.ones(N) / N\n",
    "        else:\n",
    "            X_particles[i, :] = X_particles[i-1, :]\n",
    "            weights[i, :] = weights[i-1, :]\n",
    "\n",
    "    return X_particles\n",
    "\n",
    "\n",
    "\n",
    " "
   ]
  },
  {
   "cell_type": "code",
   "execution_count": 36,
   "id": "46dca61a-3fba-4bc4-8428-61105383e3fd",
   "metadata": {},
   "outputs": [
    {
     "ename": "IndexError",
     "evalue": "index 1000 is out of bounds for axis 0 with size 1000",
     "output_type": "error",
     "traceback": [
      "\u001b[0;31m---------------------------------------------------------------------------\u001b[0m",
      "\u001b[0;31mIndexError\u001b[0m                                Traceback (most recent call last)",
      "\u001b[0;32m<ipython-input-36-ab3a4e213aeb>\u001b[0m in \u001b[0;36m<module>\u001b[0;34m\u001b[0m\n\u001b[0;32m----> 1\u001b[0;31m \u001b[0mtarget_data\u001b[0m\u001b[0;34m=\u001b[0m \u001b[0mtractable_qsmc_fredholm\u001b[0m\u001b[0;34m(\u001b[0m\u001b[0;36m1024\u001b[0m\u001b[0;34m,\u001b[0m\u001b[0;36m0.01\u001b[0m\u001b[0;34m,\u001b[0m\u001b[0;36m1000\u001b[0m\u001b[0;34m)\u001b[0m\u001b[0;34m\u001b[0m\u001b[0;34m\u001b[0m\u001b[0m\n\u001b[0m",
      "\u001b[0;32m<ipython-input-35-d6362f6ae10e>\u001b[0m in \u001b[0;36mtractable_qsmc_fredholm\u001b[0;34m(N, epsilon, n)\u001b[0m\n\u001b[1;32m     71\u001b[0m         \u001b[0mhN\u001b[0m \u001b[0;34m=\u001b[0m \u001b[0mnp\u001b[0m\u001b[0;34m.\u001b[0m\u001b[0mzeros\u001b[0m\u001b[0;34m(\u001b[0m\u001b[0mN\u001b[0m\u001b[0;34m)\u001b[0m\u001b[0;34m\u001b[0m\u001b[0;34m\u001b[0m\u001b[0m\n\u001b[1;32m     72\u001b[0m         \u001b[0;32mfor\u001b[0m \u001b[0mj\u001b[0m \u001b[0;32min\u001b[0m \u001b[0mrange\u001b[0m\u001b[0;34m(\u001b[0m\u001b[0;36m0\u001b[0m\u001b[0;34m,\u001b[0m \u001b[0mN\u001b[0m\u001b[0;34m)\u001b[0m\u001b[0;34m:\u001b[0m\u001b[0;34m\u001b[0m\u001b[0;34m\u001b[0m\u001b[0m\n\u001b[0;32m---> 73\u001b[0;31m             \u001b[0mhN\u001b[0m\u001b[0;34m[\u001b[0m\u001b[0mj\u001b[0m\u001b[0;34m]\u001b[0m \u001b[0;34m=\u001b[0m \u001b[0mnp\u001b[0m\u001b[0;34m.\u001b[0m\u001b[0mmean\u001b[0m\u001b[0;34m(\u001b[0m\u001b[0mweights\u001b[0m\u001b[0;34m[\u001b[0m\u001b[0mi\u001b[0m\u001b[0;34m,\u001b[0m \u001b[0;34m:\u001b[0m\u001b[0;34m]\u001b[0m \u001b[0;34m*\u001b[0m \u001b[0mnormpdf\u001b[0m\u001b[0;34m(\u001b[0m\u001b[0mY_particles\u001b[0m\u001b[0;34m[\u001b[0m\u001b[0mj\u001b[0m\u001b[0;34m]\u001b[0m\u001b[0;34m,\u001b[0m \u001b[0mX_particles\u001b[0m\u001b[0;34m[\u001b[0m\u001b[0mi\u001b[0m\u001b[0;34m,\u001b[0m \u001b[0;34m:\u001b[0m\u001b[0;34m]\u001b[0m\u001b[0;34m,\u001b[0m \u001b[0;36m0.045\u001b[0m\u001b[0;34m)\u001b[0m\u001b[0;34m)\u001b[0m\u001b[0;34m\u001b[0m\u001b[0;34m\u001b[0m\u001b[0m\n\u001b[0m\u001b[1;32m     74\u001b[0m \u001b[0;34m\u001b[0m\u001b[0m\n\u001b[1;32m     75\u001b[0m         \u001b[0;31m# calculate potentials\u001b[0m\u001b[0;34m\u001b[0m\u001b[0;34m\u001b[0m\u001b[0;34m\u001b[0m\u001b[0m\n",
      "\u001b[0;31mIndexError\u001b[0m: index 1000 is out of bounds for axis 0 with size 1000"
     ]
    }
   ],
   "source": [
    "target_data= tractable_qsmc_fredholm(1024,0.01,1000)"
   ]
  },
  {
   "cell_type": "code",
   "execution_count": 17,
   "id": "1a82759f-feb2-4e03-a786-3cc1b36eb15a",
   "metadata": {},
   "outputs": [
    {
     "data": {
      "text/plain": [
       "array([[ 0.08184301, -0.12520744, -0.22605217, ..., -0.22568724,\n",
       "        -0.12426691,  0.08103524],\n",
       "       [-0.01513977, -0.01513977, -0.01513977, ...,  0.08197599,\n",
       "         0.08197599,  0.08197599],\n",
       "       [-0.01263816, -0.01263816, -0.01263816, ...,  0.08206004,\n",
       "         0.08206004,  0.08206004],\n",
       "       ...,\n",
       "       [ 0.08876591,  0.08876591,  0.08876591, ...,  0.0856759 ,\n",
       "         0.0856759 ,  0.0856759 ],\n",
       "       [ 0.08876591,  0.08876591,  0.08876591, ...,  0.0856759 ,\n",
       "         0.0856759 ,  0.0856759 ],\n",
       "       [ 0.08876591,  0.08876591,  0.08876591, ...,  0.0856759 ,\n",
       "         0.0856759 ,  0.0856759 ]])"
      ]
     },
     "execution_count": 17,
     "metadata": {},
     "output_type": "execute_result"
    }
   ],
   "source": [
    "target_data"
   ]
  },
  {
   "cell_type": "code",
   "execution_count": 12,
   "id": "0fb869ed-e92b-40f2-a7a9-d76d8fd181cf",
   "metadata": {},
   "outputs": [],
   "source": [
    "particle_1 = target_data[0,:]\n",
    "\n"
   ]
  },
  {
   "cell_type": "code",
   "execution_count": 14,
   "id": "5596c426-d7dc-41b3-9148-41a6cd18583b",
   "metadata": {},
   "outputs": [
    {
     "data": {
      "image/png": "[encoded data removed]",
      "text/plain": [
       "<Figure size 432x288 with 1 Axes>"
      ]
     },
     "metadata": {
      "needs_background": "light"
     },
     "output_type": "display_data"
    }
   ],
   "source": [
    "import matplotlib.pyplot as plt\n",
    "import numpy as np\n",
    "\n",
    "# Sample data as a NumPy array\n",
    "data = particle_1\n",
    "\n",
    "# Define bin size\n",
    "bin_size = 0.05\n",
    "\n",
    "# Compute bin edges\n",
    "bins = np.arange(min(data), max(data) + bin_size, bin_size)\n",
    "\n",
    "# Plot histogram\n",
    "plt.hist(data, bins=bins, edgecolor='black')\n",
    "\n",
    "# Set labels and title\n",
    "plt.xlabel('Value')\n",
    "plt.ylabel('Frequency')\n",
    "plt.title('Histogram of our Algorithm')\n",
    "\n",
    "# Show the plot\n",
    "plt.show()"
   ]
  },
  {
   "cell_type": "code",
   "execution_count": null,
   "id": "ef46b40e-63c7-4f56-89e3-e2c20ea48072",
   "metadata": {},
   "outputs": [],
   "source": []
  }
 ],
 "metadata": {
  "kernelspec": {
   "display_name": "Python 3",
   "language": "python",
   "name": "python3"
  },
  "language_info": {
   "codemirror_mode": {
    "name": "ipython",
    "version": 3
   },
   "file_extension": ".py",
   "mimetype": "text/x-python",
   "name": "python",
   "nbconvert_exporter": "python",
   "pygments_lexer": "ipython3",
   "version": "3.8.8"
  }
 },
 "nbformat": 4,
 "nbformat_minor": 5
}
